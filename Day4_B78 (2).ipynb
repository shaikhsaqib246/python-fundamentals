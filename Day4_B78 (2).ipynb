{
 "cells": [
  {
   "cell_type": "code",
   "execution_count": 1,
   "id": "c9142bf3",
   "metadata": {},
   "outputs": [
    {
     "name": "stdout",
     "output_type": "stream",
     "text": [
      "hello World\n"
     ]
    }
   ],
   "source": [
    "print('hello World')"
   ]
  },
  {
   "cell_type": "code",
   "execution_count": null,
   "id": "5f61618a",
   "metadata": {},
   "outputs": [],
   "source": [
    "#Continue with string data type;"
   ]
  },
  {
   "cell_type": "code",
   "execution_count": null,
   "id": "6b18db27",
   "metadata": {},
   "outputs": [],
   "source": [
    "#Basic Syntax"
   ]
  },
  {
   "cell_type": "code",
   "execution_count": null,
   "id": "973e2ceb",
   "metadata": {},
   "outputs": [],
   "source": [
    "#f\"custom words{first word}{second word}.....{Nth word}\""
   ]
  },
  {
   "cell_type": "code",
   "execution_count": 2,
   "id": "4070e0ea",
   "metadata": {},
   "outputs": [],
   "source": [
    "firstname = 'Saqib'\n",
    "\n",
    "lastname = 'Shaikh'\n"
   ]
  },
  {
   "cell_type": "code",
   "execution_count": 5,
   "id": "689f0398",
   "metadata": {},
   "outputs": [],
   "source": [
    "# req: get full name"
   ]
  },
  {
   "cell_type": "code",
   "execution_count": 3,
   "id": "7c62a0b3",
   "metadata": {},
   "outputs": [
    {
     "name": "stdout",
     "output_type": "stream",
     "text": [
      "Saqib Shaikh\n"
     ]
    }
   ],
   "source": [
    "fullname = f\"{firstname} {lastname}\"\n",
    "\n",
    "print(fullname)"
   ]
  },
  {
   "cell_type": "code",
   "execution_count": null,
   "id": "e5cc4808",
   "metadata": {},
   "outputs": [],
   "source": [
    "#introduction to list"
   ]
  },
  {
   "cell_type": "code",
   "execution_count": null,
   "id": "bd001aa7",
   "metadata": {},
   "outputs": [],
   "source": [
    "#It is a collection of items"
   ]
  },
  {
   "cell_type": "code",
   "execution_count": 4,
   "id": "6dc5b1f1",
   "metadata": {},
   "outputs": [],
   "source": [
    "students=['raju','sowjanya','saqib','rahul','netra','vishnu']"
   ]
  },
  {
   "cell_type": "code",
   "execution_count": 5,
   "id": "e3d1b71c",
   "metadata": {},
   "outputs": [
    {
     "name": "stdout",
     "output_type": "stream",
     "text": [
      "['raju', 'sowjanya', 'saqib', 'rahul', 'netra', 'vishnu']\n"
     ]
    }
   ],
   "source": [
    "print(students)"
   ]
  },
  {
   "cell_type": "code",
   "execution_count": 7,
   "id": "6c6504be",
   "metadata": {},
   "outputs": [
    {
     "data": {
      "text/plain": [
       "list"
      ]
     },
     "execution_count": 7,
     "metadata": {},
     "output_type": "execute_result"
    }
   ],
   "source": [
    "type(students)"
   ]
  },
  {
   "cell_type": "code",
   "execution_count": 8,
   "id": "4e470387",
   "metadata": {},
   "outputs": [],
   "source": [
    "# indexing   req:print sowjanya at output"
   ]
  },
  {
   "cell_type": "code",
   "execution_count": 9,
   "id": "0700e0a7",
   "metadata": {},
   "outputs": [
    {
     "name": "stdout",
     "output_type": "stream",
     "text": [
      "sowjanya\n"
     ]
    }
   ],
   "source": [
    "print(students[1])"
   ]
  },
  {
   "cell_type": "code",
   "execution_count": 11,
   "id": "33192446",
   "metadata": {},
   "outputs": [
    {
     "name": "stdout",
     "output_type": "stream",
     "text": [
      "Sowjanya\n"
     ]
    }
   ],
   "source": [
    "print(students[1].title())"
   ]
  },
  {
   "cell_type": "code",
   "execution_count": null,
   "id": "10c49e1b",
   "metadata": {},
   "outputs": [],
   "source": [
    "#1. Add element to list.\n",
    "#2. Modify element in thee list.\n",
    "#3. Delete element in list."
   ]
  },
  {
   "cell_type": "code",
   "execution_count": null,
   "id": "e043e3b2",
   "metadata": {},
   "outputs": [],
   "source": [
    "#1 Req: Add Rohit to the list"
   ]
  },
  {
   "cell_type": "code",
   "execution_count": 12,
   "id": "be9f5ce5",
   "metadata": {},
   "outputs": [],
   "source": [
    "students.append('rohit')     "
   ]
  },
  {
   "cell_type": "code",
   "execution_count": 13,
   "id": "fb306d70",
   "metadata": {},
   "outputs": [
    {
     "name": "stdout",
     "output_type": "stream",
     "text": [
      "['raju', 'sowjanya', 'saqib', 'rahul', 'netra', 'vishnu', 'rohit']\n"
     ]
    }
   ],
   "source": [
    "print(students)"
   ]
  },
  {
   "cell_type": "code",
   "execution_count": null,
   "id": "d84cd130",
   "metadata": {},
   "outputs": [],
   "source": []
  },
  {
   "cell_type": "code",
   "execution_count": null,
   "id": "90a605ad",
   "metadata": {},
   "outputs": [],
   "source": [
    "#2 Req: Modify add soha at the 2nd index in list"
   ]
  },
  {
   "cell_type": "code",
   "execution_count": 14,
   "id": "484e7608",
   "metadata": {},
   "outputs": [],
   "source": [
    "students.insert(2,'soha')"
   ]
  },
  {
   "cell_type": "code",
   "execution_count": 16,
   "id": "69073fbb",
   "metadata": {},
   "outputs": [
    {
     "name": "stdout",
     "output_type": "stream",
     "text": [
      "['raju', 'sowjanya', 'soha', 'saqib', 'rahul', 'netra', 'vishnu', 'rohit']\n"
     ]
    }
   ],
   "source": [
    "print(students)"
   ]
  },
  {
   "cell_type": "code",
   "execution_count": 17,
   "id": "e34828bf",
   "metadata": {},
   "outputs": [
    {
     "name": "stdout",
     "output_type": "stream",
     "text": [
      "Soha\n"
     ]
    }
   ],
   "source": [
    "print(students[2].title())"
   ]
  },
  {
   "cell_type": "code",
   "execution_count": null,
   "id": "2fbfa216",
   "metadata": {},
   "outputs": [],
   "source": [
    "#You can directly modify any element in list "
   ]
  },
  {
   "cell_type": "code",
   "execution_count": 18,
   "id": "cc9d3b39",
   "metadata": {},
   "outputs": [
    {
     "name": "stdout",
     "output_type": "stream",
     "text": [
      "['raju', 'sowjanya', 'soha', 'saqib', 'Sohel', 'netra', 'vishnu', 'rohit']\n"
     ]
    }
   ],
   "source": [
    "students[4]='Sohel'\n",
    "print(students)"
   ]
  },
  {
   "cell_type": "code",
   "execution_count": null,
   "id": "da09be0b",
   "metadata": {},
   "outputs": [],
   "source": [
    "#We can do it because List is Mutable"
   ]
  },
  {
   "cell_type": "code",
   "execution_count": null,
   "id": "1c5b0aaa",
   "metadata": {},
   "outputs": [],
   "source": []
  },
  {
   "cell_type": "code",
   "execution_count": null,
   "id": "cef5d0f3",
   "metadata": {},
   "outputs": [],
   "source": [
    "# Q:Diffrence between Append and Insert"
   ]
  },
  {
   "cell_type": "code",
   "execution_count": null,
   "id": "b7eab856",
   "metadata": {},
   "outputs": [],
   "source": []
  },
  {
   "cell_type": "code",
   "execution_count": null,
   "id": "9d11e87a",
   "metadata": {},
   "outputs": [],
   "source": [
    "#3 Req: Delete Sohel name from list"
   ]
  },
  {
   "cell_type": "code",
   "execution_count": null,
   "id": "51b15f2e",
   "metadata": {},
   "outputs": [],
   "source": []
  },
  {
   "cell_type": "code",
   "execution_count": null,
   "id": "b7cde17e",
   "metadata": {},
   "outputs": [],
   "source": [
    "#Method 1 temparary deleting we will use POP method which will tem[parary delete element but it will take from last."
   ]
  },
  {
   "cell_type": "code",
   "execution_count": 19,
   "id": "f67fa405",
   "metadata": {},
   "outputs": [],
   "source": [
    "x=students.pop()   # will delete element from ending of the list"
   ]
  },
  {
   "cell_type": "code",
   "execution_count": 20,
   "id": "3bf46c2c",
   "metadata": {},
   "outputs": [
    {
     "name": "stdout",
     "output_type": "stream",
     "text": [
      "['raju', 'sowjanya', 'soha', 'saqib', 'Sohel', 'netra', 'vishnu']\n"
     ]
    }
   ],
   "source": [
    "print(students)"
   ]
  },
  {
   "cell_type": "code",
   "execution_count": 21,
   "id": "fdc0a667",
   "metadata": {},
   "outputs": [
    {
     "name": "stdout",
     "output_type": "stream",
     "text": [
      "rohit\n"
     ]
    }
   ],
   "source": [
    "print(x)"
   ]
  },
  {
   "cell_type": "code",
   "execution_count": 23,
   "id": "ac3bca47",
   "metadata": {},
   "outputs": [
    {
     "name": "stdout",
     "output_type": "stream",
     "text": [
      "netra\n"
     ]
    }
   ],
   "source": [
    "y=students.pop(5)\n",
    "print(y)"
   ]
  },
  {
   "cell_type": "code",
   "execution_count": 27,
   "id": "a47a3143",
   "metadata": {},
   "outputs": [
    {
     "name": "stdout",
     "output_type": "stream",
     "text": [
      "['raju', 'sowjanya', 'soha', 'saqib', 'vishnu']\n",
      "rohit\n",
      "netra\n"
     ]
    }
   ],
   "source": [
    "print(students)\n",
    "print(x)\n",
    "print(y)"
   ]
  },
  {
   "cell_type": "code",
   "execution_count": null,
   "id": "c1707f1a",
   "metadata": {},
   "outputs": [],
   "source": []
  },
  {
   "cell_type": "code",
   "execution_count": null,
   "id": "118333b1",
   "metadata": {},
   "outputs": [],
   "source": [
    "#Method 2 perminent deleting"
   ]
  },
  {
   "cell_type": "code",
   "execution_count": null,
   "id": "26115bb3",
   "metadata": {},
   "outputs": [],
   "source": [
    "#REQ delete Sohle name from list"
   ]
  },
  {
   "cell_type": "code",
   "execution_count": 25,
   "id": "f8310eb3",
   "metadata": {},
   "outputs": [],
   "source": [
    "del students[4]"
   ]
  },
  {
   "cell_type": "code",
   "execution_count": 26,
   "id": "38329a2d",
   "metadata": {},
   "outputs": [
    {
     "name": "stdout",
     "output_type": "stream",
     "text": [
      "['raju', 'sowjanya', 'soha', 'saqib', 'vishnu']\n"
     ]
    }
   ],
   "source": [
    "print(students)"
   ]
  },
  {
   "cell_type": "code",
   "execution_count": null,
   "id": "3486ff76",
   "metadata": {},
   "outputs": [],
   "source": [
    "# interview Q: Diff rence between pop and delete methods"
   ]
  }
 ],
 "metadata": {
  "kernelspec": {
   "display_name": "Python 3 (ipykernel)",
   "language": "python",
   "name": "python3"
  },
  "language_info": {
   "codemirror_mode": {
    "name": "ipython",
    "version": 3
   },
   "file_extension": ".py",
   "mimetype": "text/x-python",
   "name": "python",
   "nbconvert_exporter": "python",
   "pygments_lexer": "ipython3",
   "version": "3.9.12"
  }
 },
 "nbformat": 4,
 "nbformat_minor": 5
}
